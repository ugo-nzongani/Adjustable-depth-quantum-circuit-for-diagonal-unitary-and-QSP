{
 "cells": [
  {
   "cell_type": "code",
   "execution_count": 1,
   "id": "eeab3f23",
   "metadata": {},
   "outputs": [],
   "source": [
    "from adjustable import *\n",
    "import qiskit.quantum_info as qi\n",
    "import matplotlib.pyplot as plt"
   ]
  },
  {
   "cell_type": "code",
   "execution_count": 33,
   "id": "181f86d7",
   "metadata": {},
   "outputs": [],
   "source": [
    "# Matrix representation\n",
    "def diagonal_unitary(n,f):\n",
    "    diag_unitary = np.identity(2**n,dtype=np.complex128)\n",
    "    for i in range(2**n):\n",
    "        x = bin(i)[2:].zfill(n)[::-1]\n",
    "        dyadic = 0\n",
    "        for j in range(n):\n",
    "            dyadic += int(x[n-j-1])/2**(j+1)\n",
    "        diag_unitary[i][i] = np.exp(1j*f(dyadic))\n",
    "    return diag_unitary\n",
    "\n",
    "\n",
    "def hadamard_state(n):\n",
    "    state = np.ones(2**n,dtype=np.complex128)\n",
    "    state /= np.linalg.norm(state)\n",
    "    return state\n",
    "\n",
    "def results(n,x):\n",
    "    \"\"\"\n",
    "    Parameters\n",
    "    ----------\n",
    "    n : int\n",
    "        The number of qubits encoding the position\n",
    "    x : numpy.ndarray\n",
    "        Quantum vector\n",
    "\n",
    "    Returns\n",
    "    -------\n",
    "    dict\n",
    "        Dictionary where the keys are the different basis states\n",
    "        and the values are the associated measurement probabilities.\n",
    "        The only basis states present are those with a non-zero probability\n",
    "    \"\"\"\n",
    "    r = {}\n",
    "    for i in range(2**(n)):\n",
    "        binary = bin(i)[2:].zfill(n)\n",
    "        r[str(binary)] = x[i]\n",
    "    return r\n",
    "\n",
    "def fidelity(psi1,psi2,n):\n",
    "    F = 0+0j\n",
    "    for i in range(2**n):\n",
    "        F += np.conj(psi1[i])*psi2[i]\n",
    "    return(abs(F)**2)\n",
    "\n",
    "def f(x):\n",
    "    return np.exp(-(x-1/2)**2)+x\n",
    "    #return np.sin(x)"
   ]
  },
  {
   "cell_type": "code",
   "execution_count": 83,
   "id": "2779d846",
   "metadata": {},
   "outputs": [
    {
     "name": "stdout",
     "output_type": "stream",
     "text": [
      "Adjustable-depth(n=4,m=0,p=2)\n"
     ]
    },
    {
     "data": {
      "image/png": "[encoded data removed]",
      "text/plain": [
       "<Figure size 640x480 with 1 Axes>"
      ]
     },
     "metadata": {},
     "output_type": "display_data"
    },
    {
     "name": "stdout",
     "output_type": "stream",
     "text": [
      "9\n"
     ]
    }
   ],
   "source": [
    "def circ(n,m,p,f,swap_option=False):\n",
    "    # m = 0,...,n-p-1\n",
    "    while m > n-p-1:\n",
    "        m -= 1\n",
    "    # p = 0,...,n-1\n",
    "    if p > n-1:\n",
    "        print('Wrong value for p')\n",
    "        return 0\n",
    "    print('Adjustable-depth(n='+str(n)+',m='+str(m)+',p='+str(p)+')')\n",
    "    M = 2**m\n",
    "    q = QuantumRegister(n, name= 'q')\n",
    "    s = AncillaRegister(M-1, name= 's')\n",
    "    b = AncillaRegister(M, name= 'b')\n",
    "    qc = QuantumCircuit(q, s, b)\n",
    "    if swap_option:\n",
    "        for i in range(int(n/2)):\n",
    "            qc.swap(q[i],q[n-1-i])\n",
    "    qc.h(q)\n",
    "    adj = adjustable_depth(n-p,m,f)\n",
    "    all_qubits = [q[0]] + [q[i] for i in range(1,n-p)] + [i for i in s] + [i for i in b]\n",
    "    \n",
    "    qc = qc.compose(adj, all_qubits)\n",
    "    if swap_option:\n",
    "        for i in range(int(n/2)):\n",
    "            qc.swap(q[i],q[n-1-i])\n",
    "    \n",
    "    return qc\n",
    "\n",
    "n = 4\n",
    "m = 0\n",
    "p = 2\n",
    "qc = circ(n,m,p,f)\n",
    "#qc.draw('mpl')\n",
    "\n",
    "state = qi.Statevector.from_instruction(qc)\n",
    "#print(state)\n",
    "L=np.array(state.data[0:2**n])\n",
    "L2=np.angle(L)\n",
    "newL2 = reordering(L2,n,p)\n",
    "X=np.array(range(2**n))/2**n\n",
    "\n",
    "plt.plot(X,newL2,marker='.',c='r')\n",
    "plt.plot(X,f(X),marker='x',c='b',linestyle='')\n",
    "plt.show()\n",
    "\n",
    "print(qc.depth())"
   ]
  },
  {
   "cell_type": "code",
   "execution_count": 84,
   "id": "26cf149a",
   "metadata": {},
   "outputs": [
    {
     "data": {
      "text/html": [
       "<pre style=\"word-wrap: normal;white-space: pre;background: #fff0;line-height: 1.1;font-family: &quot;Courier New&quot;,Courier,monospace\">     ┌───┐          ┌────┐               ┌────┐     \n",
       "q_0: ┤ H ├──────────┤ C0 ├───────────────┤ C1 ├─────\n",
       "     ├───┤┌───┐     └─┬──┘     ┌───┐     └─┬──┘     \n",
       "q_1: ┤ H ├┤ X ├──■────┼─────■──┤ X ├──■────┼─────■──\n",
       "     ├───┤└───┘  │    │     │  └───┘  │    │     │  \n",
       "q_2: ┤ H ├───────┼────┼─────┼─────────┼────┼─────┼──\n",
       "     ├───┤       │    │     │         │    │     │  \n",
       "q_3: ┤ H ├───────┼────┼─────┼─────────┼────┼─────┼──\n",
       "     └───┘     ┌─┴─┐  │   ┌─┴─┐     ┌─┴─┐  │   ┌─┴─┐\n",
       "  b: ──────────┤ X ├──■───┤ X ├─────┤ X ├──■───┤ X ├\n",
       "               └───┘      └───┘     └───┘      └───┘</pre>"
      ],
      "text/plain": [
       "     ┌───┐          ┌────┐               ┌────┐     \n",
       "q_0: ┤ H ├──────────┤ C0 ├───────────────┤ C1 ├─────\n",
       "     ├───┤┌───┐     └─┬──┘     ┌───┐     └─┬──┘     \n",
       "q_1: ┤ H ├┤ X ├──■────┼─────■──┤ X ├──■────┼─────■──\n",
       "     ├───┤└───┘  │    │     │  └───┘  │    │     │  \n",
       "q_2: ┤ H ├───────┼────┼─────┼─────────┼────┼─────┼──\n",
       "     ├───┤       │    │     │         │    │     │  \n",
       "q_3: ┤ H ├───────┼────┼─────┼─────────┼────┼─────┼──\n",
       "     └───┘     ┌─┴─┐  │   ┌─┴─┐     ┌─┴─┐  │   ┌─┴─┐\n",
       "  b: ──────────┤ X ├──■───┤ X ├─────┤ X ├──■───┤ X ├\n",
       "               └───┘      └───┘     └───┘      └───┘"
      ]
     },
     "execution_count": 84,
     "metadata": {},
     "output_type": "execute_result"
    }
   ],
   "source": [
    "qc.draw()"
   ]
  },
  {
   "cell_type": "code",
   "execution_count": 64,
   "id": "791c3d29",
   "metadata": {},
   "outputs": [],
   "source": [
    "def reordering(l,n,p):\n",
    "    L1 = []\n",
    "    r = 2**(n-p)\n",
    "    for i in range(r):\n",
    "        for j in range(2**p):\n",
    "            L1.append(l[i+j*r])\n",
    "    return L1"
   ]
  },
  {
   "cell_type": "code",
   "execution_count": null,
   "id": "efcca54b",
   "metadata": {},
   "outputs": [],
   "source": []
  }
 ],
 "metadata": {
  "kernelspec": {
   "display_name": "Python 3 (ipykernel)",
   "language": "python",
   "name": "python3"
  },
  "language_info": {
   "codemirror_mode": {
    "name": "ipython",
    "version": 3
   },
   "file_extension": ".py",
   "mimetype": "text/x-python",
   "name": "python",
   "nbconvert_exporter": "python",
   "pygments_lexer": "ipython3",
   "version": "3.8.10"
  }
 },
 "nbformat": 4,
 "nbformat_minor": 5
}
